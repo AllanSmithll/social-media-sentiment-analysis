{
 "cells": [
  {
   "cell_type": "markdown",
   "metadata": {},
   "source": [
    "# Dataset:  [Social Media Usage and Emotional Well-Being](https://www.kaggle.com/datasets/emirhanai/social-media-usage-and-emotional-well-being)\n",
    "- Tópicos Especiais - Sistemas para Internet - IFPB\n",
    "- Data: 09/03/2025\n",
    "- Análise por Allan Alves Amâncio\n",
    "- IDE utilizada: Google Colab\n",
    "\n",
    "Target: *Dominant_Emotion*"
   ]
  },
  {
   "cell_type": "markdown",
   "metadata": {},
   "source": [
    "import kagglehub\n",
    "import os\n",
    "import numpy as np\n",
    "import pandas as pd\n",
    "from sklearn import metrics, tree\n",
    "from sklearn.compose import make_column_transformer\n",
    "from sklearn.metrics import confusion_matrix\n",
    "from sklearn.model_selection import train_test_split, cross_val_score, KFold\n",
    "from sklearn.preprocessing import OneHotEncoder, LabelEncoder, MinMaxScaler\n",
    "\n",
    "path = \"/root/.cache/kagglehub/datasets/emirhanai/social-media-usage-and-emotional-well-being/versions/1\"\n",
    "file_path = os.path.join(path, \"train.csv\")\n",
    "\n",
    "if not os.path.exists(file_path):\n",
    "    print(\"Fazendo download do dataset...\")\n",
    "    path = kagglehub.dataset_download(\"emirhanai/social-media-usage-and-emotional-well-being\")\n",
    "else:\n",
    "    print(\"Dataset já baixado. Continuando...\")\n",
    "\n",
    "df = pd.read_csv(file_path)\n",
    "\n",
    "df.drop(columns=['User_ID', 'Platform'], inplace=True, axis=1)\n",
    "\n",
    "df = df[df[\"Gender\"].isin([\"Male\", \"Female\", \"Non-binary\"])]\n",
    "\n",
    "label_encoder = LabelEncoder()\n",
    "df[\"Dominant_Emotion\"] = label_encoder.fit_transform(df[\"Dominant_Emotion\"])\n",
    "\n",
    "column_transformer_one_hot = make_column_transformer(\n",
    "    (OneHotEncoder(), [\"Gender\"]),\n",
    "    remainder='passthrough'\n",
    ")\n",
    "\n",
    "numeric_cols = df.columns.difference([\"Dominant_Emotion\", \"Gender\"])\n",
    "scaler = MinMaxScaler()\n",
    "df[numeric_cols] = scaler.fit_transform(df[numeric_cols])\n",
    "\n",
    "df_transformed = column_transformer_one_hot.fit_transform(df)\n",
    "new_column_names = column_transformer_one_hot.get_feature_names_out()\n",
    "df = pd.DataFrame(df_transformed, columns=new_column_names)\n",
    "\n",
    "dominant_emotion_col = [col for col in df.columns if \"remainder__Dominant_Emotion\" in col][0]\n",
    "df[dominant_emotion_col] = df[dominant_emotion_col].astype(int)\n",
    "\n",
    "dict(zip(label_encoder.classes_, label_encoder.transform(label_encoder.classes_)))\n",
    "\n",
    "y = df[dominant_emotion_col]\n",
    "X = df.drop(columns=[dominant_emotion_col])\n",
    "\n",
    "X_train, X_test, y_train, y_test = train_test_split(X, y, test_size=0.2, random_state=None, stratify=y)\n",
    "\n",
    "print(\"\\nÁrvores de Decisão (Gini e Entropy):\")\n",
    "\n",
    "tree_model_gini = tree.DecisionTreeClassifier(criterion=\"gini\")\n",
    "\n",
    "kf = KFold(n_splits=10, shuffle=True, random_state=42)\n",
    "scores = cross_val_score(tree_model_gini, X, y, cv=kf, scoring='accuracy')\n",
    "\n",
    "mean_accuracy = np.mean(scores) * 100\n",
    "\n",
    "print(\"\\nMédia de acurácia (10 folds) com Gini: {:.2f}%\".format(mean_accuracy))"
   ]
  }
 ],
 "metadata": {
  "kernelspec": {
   "display_name": "Python 3",
   "language": "python",
   "name": "python3"
  },
  "language_info": {
   "codemirror_mode": {
    "name": "ipython",
    "version": 3
   },
   "file_extension": ".py",
   "mimetype": "text/x-python",
   "name": "python",
   "nbconvert_exporter": "python",
   "pygments_lexer": "ipython3",
   "version": "3.11.9"
  }
 },
 "nbformat": 4,
 "nbformat_minor": 2
}
